{
 "cells": [
  {
   "cell_type": "code",
   "execution_count": 1,
   "id": "f0179c38-9daa-4b9f-b93d-d9074d6496d0",
   "metadata": {},
   "outputs": [],
   "source": [
    "import numpy as np\n",
    "import os\n",
    "\n",
    "import subprocess\n",
    "from subprocess import Popen\n",
    "\n",
    "executable_path = \"/home/b502b586/ardupilot-workspace/ns3-mavsdk/build/src/ardupilot/examples/\"\n",
    "\n",
    "working_dir = '/home/b502b586/ardupilot-workspace/experiments'\n",
    "os.chdir(working_dir)"
   ]
  },
  {
   "cell_type": "code",
   "execution_count": 2,
   "id": "2953f195-4e0c-4bec-8fe4-9b28e45cc5ab",
   "metadata": {},
   "outputs": [],
   "source": [
    "sim_time = 800\n",
    "valid_frequencies = [\"700\", \"1500\", \"2600\"]\n",
    "valid_bw = [\"6\", \"15\", \"25\", \"50\", \"75\", \"100\"]\n",
    "valid_scenarios = [\"UMa\", \"UMi\", \"RMa\"]\n",
    "valid_video_qualities = [\"800p\", \"1280p\", \"1920p\"]\n",
    "valid_fr_algs = [\"ns3::LteFrNoOpAlgorithm\", \"ns3::LteFrHardAlgorithm\", \"ns3::LteFrStrictAlgorithm\", \n",
    "                 \"ns3::LteFrSoftAlgorithm\", \"ns3::LteFfrSoftAlgorithm\", \"ns3::LteFfrEnhancedAlgorithm\"]\n"
   ]
  },
  {
   "cell_type": "code",
   "execution_count": 3,
   "id": "dd944189-91a0-49ba-99ad-d9620a144046",
   "metadata": {},
   "outputs": [
    {
     "name": "stdout",
     "output_type": "stream",
     "text": [
      "/home/b502b586/ardupilot-workspace/experiments/exp-f:2600-bw:75-video:1920p-fr:LteFfrSoftAlgorithm-pc:t-sched:FdMt\n"
     ]
    }
   ],
   "source": [
    "# Setup experiment configuration\n",
    "freq = valid_frequencies[2]\n",
    "bw = valid_bw[4]\n",
    "video_quality = valid_video_qualities[2]\n",
    "fr_alg = valid_fr_algs[4]\n",
    "power_contorl = 'true'\n",
    "\n",
    "experiment_path = '%s/exp-f:%s-bw:%s-video:%s-fr:%s-pc:%s-sched:FdMt' % (working_dir, freq, bw, video_quality, fr_alg[5:], power_contorl[0])\n",
    "\n",
    "print(experiment_path)"
   ]
  },
  {
   "cell_type": "code",
   "execution_count": 4,
   "id": "a09b7688-0e46-4b93-a99b-f7ad9f0fa572",
   "metadata": {},
   "outputs": [
    {
     "name": "stdout",
     "output_type": "stream",
     "text": [
      "/home/b502b586/ardupilot-workspace/ns3-mavsdk/build/src/ardupilot/examples//ns3-dev-wildfire-scenario-example --simTime=800 --carrierFreq=2600 --bandwidth=75 --videoResolution=1920p --frAlg=ns3::LteFfrSoftAlgorithm --powerControlEnabled=true \n"
     ]
    }
   ],
   "source": [
    "if not os.path.exists(experiment_path):\n",
    "    os.makedirs(experiment_path)\n",
    "os.chdir(experiment_path)\n",
    "\n",
    "cmd = \"%s/ns3-dev-wildfire-scenario-example --simTime=%s --carrierFreq=%s --bandwidth=%s --videoResolution=%s --frAlg=%s --powerControlEnabled=%s \" % (executable_path, sim_time, freq, bw, video_quality, fr_alg, power_contorl)\n",
    "print(cmd)"
   ]
  },
  {
   "cell_type": "code",
   "execution_count": 49,
   "id": "3532e1db-8636-4e83-a3f1-b150ed81aae4",
   "metadata": {},
   "outputs": [
    {
     "name": "stdout",
     "output_type": "stream",
     "text": [
      "Simulation Settings: \n",
      "\tnUAV = 1\n",
      "\tnumENBNodes = 1\n",
      "\tcarrierFreq = 2600\n",
      "\tbandwidth = 75\n",
      "\tsimTime = 800\n",
      "\tscenarioType = UMa\n",
      "\tueTxPower = 23\n",
      "\teNbTxPower = 46\n",
      "\tvideoResolution = 1920p\n",
      "\tFrequency reuse algorithm = ns3::LteFfrSoftAlgorithm\n",
      "\tRngSeedManager = 1\n",
      "\tPowerControlEnabled = 1\n",
      " UAV address: 102.102.102.102\n",
      " MEC Address: 102.102.102.102\n",
      "Simulation Started!\n",
      "+0.120214s IMSI 1, RNTI 1, Cell id 1, T300 expiration counter 1, UE RRC Connection timeout\n",
      "+0.520214s IMSI 1, RNTI 2, Cell id 1, T300 expiration counter 1, UE RRC Connection timeout\n",
      "Simulation Finished!\n"
     ]
    },
    {
     "data": {
      "text/plain": [
       "0"
      ]
     },
     "execution_count": 49,
     "metadata": {},
     "output_type": "execute_result"
    }
   ],
   "source": [
    "# Run the experiment\n",
    "# \"/home/b502b586/Apps/clion-2021.2.1/bin/cmake/linux/bin/cmake --build /home/b502b586/ardupilot-workspace/ns3-mavsdk/cmake-build-release --target wildfire-scenario-example --j 7\"\n",
    "\n",
    "process = Popen(cmd, shell=True, stdout=subprocess.PIPE, stderr=subprocess.STDOUT)\n",
    "while True:\n",
    "    line = process.stdout.readline()\n",
    "    if line:\n",
    "        print(line.decode(\"utf-8\", \"ignore\"), end='')\n",
    "    else:\n",
    "        break\n",
    "process.wait()\n"
   ]
  }
 ],
 "metadata": {
  "kernelspec": {
   "display_name": "Python 3",
   "language": "python",
   "name": "python3"
  },
  "language_info": {
   "codemirror_mode": {
    "name": "ipython",
    "version": 3
   },
   "file_extension": ".py",
   "mimetype": "text/x-python",
   "name": "python",
   "nbconvert_exporter": "python",
   "pygments_lexer": "ipython3",
   "version": "3.9.12"
  }
 },
 "nbformat": 4,
 "nbformat_minor": 5
}
